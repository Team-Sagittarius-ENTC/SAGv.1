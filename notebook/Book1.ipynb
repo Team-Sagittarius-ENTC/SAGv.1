{
 "cells": [
  {
   "cell_type": "code",
   "execution_count": 1,
   "id": "7d38f573",
   "metadata": {},
   "outputs": [
    {
     "name": "stdout",
     "output_type": "stream",
     "text": [
      "Enter sourse code file name -> test_pr1.txt\n"
     ]
    }
   ],
   "source": [
    "file_name = input(\"Enter sourse code file name -> \").strip()"
   ]
  },
  {
   "cell_type": "code",
   "execution_count": 42,
   "id": "bc07095a",
   "metadata": {},
   "outputs": [],
   "source": [
    "with open (file_name, 'r') as sourse:\n",
    "    content = sourse.readlines()"
   ]
  },
  {
   "cell_type": "code",
   "execution_count": 44,
   "id": "b474f489",
   "metadata": {},
   "outputs": [
    {
     "data": {
      "text/plain": [
       "['0000100 000 00 00 00            // Machine instruction for LDNEXT\\n',\n",
       " '0000 1001 1100 0100             // Value to load (2500)\\n',\n",
       " '\\n',\n",
       " '0000100 000 00 00 00            // Machine instruction for LDNEXT\\n',\n",
       " '0000 1110 0001 0000             // Value to load (3600)\\n',\n",
       " '\\n',\n",
       " '0000100 000 00 00 00            // Machine instruction for LDNEXT\\n',\n",
       " '0000 1001 1100 0100             // Value to load (2500)\\n',\n",
       " '\\n',\n",
       " '0000100 000 00 00 00            // Machine instruction for LDNEXT\\n',\n",
       " '0000 1110 0001 0000             // Value to load (3600)\\n',\n",
       " '\\n',\n",
       " '0000100 000 00 00 00            // Machine instruction for LDNEXT\\n',\n",
       " '0000 1001 1100 0100             // Value to load (2500)\\n',\n",
       " '\\n',\n",
       " '0000100 000 00 00 00            // Machine instruction for LDNEXT\\n',\n",
       " '0000 1110 0001 0000             // Value to load (3600)']"
      ]
     },
     "execution_count": 44,
     "metadata": {},
     "output_type": "execute_result"
    }
   ],
   "source": [
    "content"
   ]
  },
  {
   "cell_type": "code",
   "execution_count": 45,
   "id": "9f7fc9be",
   "metadata": {},
   "outputs": [],
   "source": [
    "def process_lines(line_list):\n",
    "    new_data = []\n",
    "    for line in line_list:\n",
    "        line = \"\".join(line.split())\n",
    "        \n",
    "        comment_index = line.find('/')\n",
    "\n",
    "        line = line[:comment_index]\n",
    "        \n",
    "        if(len(line) == 16):\n",
    "            new_data.append(hex(int(line, 2))[2:])\n",
    "    \n",
    "    return new_data"
   ]
  },
  {
   "cell_type": "code",
   "execution_count": 46,
   "id": "3293db19",
   "metadata": {},
   "outputs": [],
   "source": [
    "content = process_lines(content)"
   ]
  },
  {
   "cell_type": "code",
   "execution_count": 47,
   "id": "b8c6974f",
   "metadata": {},
   "outputs": [
    {
     "data": {
      "text/plain": [
       "['800',\n",
       " '9c4',\n",
       " '800',\n",
       " 'e10',\n",
       " '800',\n",
       " '9c4',\n",
       " '800',\n",
       " 'e10',\n",
       " '800',\n",
       " '9c4',\n",
       " '800',\n",
       " 'e10']"
      ]
     },
     "execution_count": 47,
     "metadata": {},
     "output_type": "execute_result"
    }
   ],
   "source": [
    "content"
   ]
  },
  {
   "cell_type": "code",
   "execution_count": 51,
   "id": "9080aefc",
   "metadata": {},
   "outputs": [],
   "source": [
    "def create_object_code(hex_codes, output_file):\n",
    "    \n",
    "    with open(output_file, 'w') as object_code:\n",
    "        object_code.write(\"v2.0 raw\")\n",
    "        \n",
    "        for counter, data in enumerate(hex_codes):\n",
    "            \n",
    "            if not (counter % 8):\n",
    "                object_code.write(\"\\n\")\n",
    "            else:\n",
    "                object_code.write(\" \")\n",
    "                \n",
    "            object_code.write(str(data))"
   ]
  },
  {
   "cell_type": "code",
   "execution_count": 52,
   "id": "631815ba",
   "metadata": {},
   "outputs": [],
   "source": [
    "create_object_code(content, 'some.txt')"
   ]
  },
  {
   "cell_type": "code",
   "execution_count": 50,
   "id": "4e1908e0",
   "metadata": {},
   "outputs": [
    {
     "data": {
      "text/plain": [
       "True"
      ]
     },
     "execution_count": 50,
     "metadata": {},
     "output_type": "execute_result"
    }
   ],
   "source": [
    "not 0 % 7"
   ]
  },
  {
   "cell_type": "code",
   "execution_count": null,
   "id": "6215114b",
   "metadata": {},
   "outputs": [],
   "source": []
  },
  {
   "cell_type": "code",
   "execution_count": null,
   "id": "869bac33",
   "metadata": {},
   "outputs": [],
   "source": []
  },
  {
   "cell_type": "code",
   "execution_count": null,
   "id": "49ac0db3",
   "metadata": {},
   "outputs": [],
   "source": []
  },
  {
   "cell_type": "code",
   "execution_count": null,
   "id": "4434dcd8",
   "metadata": {},
   "outputs": [],
   "source": []
  },
  {
   "cell_type": "code",
   "execution_count": null,
   "id": "8a03e011",
   "metadata": {},
   "outputs": [],
   "source": []
  },
  {
   "cell_type": "code",
   "execution_count": null,
   "id": "56421775",
   "metadata": {},
   "outputs": [],
   "source": []
  },
  {
   "cell_type": "code",
   "execution_count": null,
   "id": "34b089a0",
   "metadata": {},
   "outputs": [],
   "source": []
  },
  {
   "cell_type": "code",
   "execution_count": null,
   "id": "8630dd27",
   "metadata": {},
   "outputs": [],
   "source": []
  },
  {
   "cell_type": "code",
   "execution_count": null,
   "id": "bf409fce",
   "metadata": {},
   "outputs": [],
   "source": []
  },
  {
   "cell_type": "code",
   "execution_count": 6,
   "id": "8c0e703a",
   "metadata": {},
   "outputs": [],
   "source": [
    "def sqrt(number):\n",
    "    ans = 1\n",
    "    \n",
    "    while True:\n",
    "        bigSquare = ans * ans\n",
    "\n",
    "        if bigSquare > number:\n",
    "            ans = ans / 2\n",
    "            break\n",
    "\n",
    "        else:\n",
    "            ans = ans * 2\n",
    "        \n",
    "    \n",
    "    return ans + 1"
   ]
  },
  {
   "cell_type": "code",
   "execution_count": 12,
   "id": "21310a07",
   "metadata": {},
   "outputs": [
    {
     "data": {
      "text/plain": [
       "5.0"
      ]
     },
     "execution_count": 12,
     "metadata": {},
     "output_type": "execute_result"
    }
   ],
   "source": [
    "sqrt(36)"
   ]
  },
  {
   "cell_type": "code",
   "execution_count": 13,
   "id": "42ab786c",
   "metadata": {},
   "outputs": [
    {
     "ename": "SyntaxError",
     "evalue": "invalid syntax (<ipython-input-13-d13b41bfb7c0>, line 1)",
     "output_type": "error",
     "traceback": [
      "\u001b[1;36m  File \u001b[1;32m\"<ipython-input-13-d13b41bfb7c0>\"\u001b[1;36m, line \u001b[1;32m1\u001b[0m\n\u001b[1;33m    int isqrt(int n)\u001b[0m\n\u001b[1;37m        ^\u001b[0m\n\u001b[1;31mSyntaxError\u001b[0m\u001b[1;31m:\u001b[0m invalid syntax\n"
     ]
    }
   ],
   "source": [
    "int isqrt(int n)\n",
    "{\n",
    "  int b = 0;\n",
    "\n",
    "  while(n >= 0)\n",
    "  {\n",
    "    n = n - b;\n",
    "    b = b + 1;\n",
    "    n = n - b;\n",
    "  }\n",
    "\n",
    "  return b - 1;\n",
    "}"
   ]
  },
  {
   "cell_type": "code",
   "execution_count": 14,
   "id": "ee49de6d",
   "metadata": {},
   "outputs": [],
   "source": [
    "def intSqrt(number):\n",
    "    b = 0\n",
    "    while (number >= 0):\n",
    "        number = number - b\n",
    "        b = b + 1\n",
    "        number = number - b;\n",
    "    \n",
    "    return b - 1"
   ]
  },
  {
   "cell_type": "code",
   "execution_count": 18,
   "id": "e14b5c42",
   "metadata": {},
   "outputs": [
    {
     "data": {
      "text/plain": [
       "6"
      ]
     },
     "execution_count": 18,
     "metadata": {},
     "output_type": "execute_result"
    }
   ],
   "source": [
    "intSqrt(36)"
   ]
  },
  {
   "cell_type": "code",
   "execution_count": null,
   "id": "1554c26c",
   "metadata": {},
   "outputs": [],
   "source": []
  }
 ],
 "metadata": {
  "kernelspec": {
   "display_name": "Python 3",
   "language": "python",
   "name": "python3"
  },
  "language_info": {
   "codemirror_mode": {
    "name": "ipython",
    "version": 3
   },
   "file_extension": ".py",
   "mimetype": "text/x-python",
   "name": "python",
   "nbconvert_exporter": "python",
   "pygments_lexer": "ipython3",
   "version": "3.9.2"
  }
 },
 "nbformat": 4,
 "nbformat_minor": 5
}
