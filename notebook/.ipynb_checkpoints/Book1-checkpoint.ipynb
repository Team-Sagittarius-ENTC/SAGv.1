{
 "cells": [
  {
   "cell_type": "code",
   "execution_count": 1,
   "id": "b6dfb3d2",
   "metadata": {},
   "outputs": [
    {
     "name": "stdout",
     "output_type": "stream",
     "text": [
      "Enter sourse code file name -> test_pr1.txt\n"
     ]
    }
   ],
   "source": [
    "file_name = input(\"Enter sourse code file name -> \").strip()"
   ]
  },
  {
   "cell_type": "code",
   "execution_count": 27,
   "id": "195da89c",
   "metadata": {},
   "outputs": [],
   "source": [
    "with open (file_name, 'r') as sourse:\n",
    "    content = sourse.readlines()"
   ]
  },
  {
   "cell_type": "code",
   "execution_count": 28,
   "id": "fa424fe0",
   "metadata": {},
   "outputs": [
    {
     "data": {
      "text/plain": [
       "['0000100 000 00 00 00            // Machine instruction for LDNEXT\\n',\n",
       " '0000 1001 1100 0100             // Value to load (2500)\\n',\n",
       " '\\n',\n",
       " '0000100 000 00 00 00            // Machine instruction for LDNEXT\\n',\n",
       " '0000 1110 0001 0000             // Value to load (3600)']"
      ]
     },
     "execution_count": 28,
     "metadata": {},
     "output_type": "execute_result"
    }
   ],
   "source": [
    "content"
   ]
  },
  {
   "cell_type": "code",
   "execution_count": 31,
   "id": "67595a17",
   "metadata": {},
   "outputs": [],
   "source": [
    "def process_lines(line_list):\n",
    "    new_data = []\n",
    "    for line in line_list:\n",
    "        line = \"\".join(line.split())\n",
    "        \n",
    "        comment_index = line.find('/')\n",
    "\n",
    "        line = line[:comment_index]\n",
    "        \n",
    "        if(len(line) == 16):\n",
    "            new_data.append(hex(int(line, 2))[2:])\n",
    "    \n",
    "    return new_data"
   ]
  },
  {
   "cell_type": "code",
   "execution_count": 32,
   "id": "7a4a17de",
   "metadata": {},
   "outputs": [],
   "source": [
    "content = process_lines(content)"
   ]
  },
  {
   "cell_type": "code",
   "execution_count": 33,
   "id": "a4332ffd",
   "metadata": {},
   "outputs": [
    {
     "data": {
      "text/plain": [
       "['800', '9c4', '800', 'e10']"
      ]
     },
     "execution_count": 33,
     "metadata": {},
     "output_type": "execute_result"
    }
   ],
   "source": [
    "content"
   ]
  },
  {
   "cell_type": "code",
   "execution_count": 36,
   "id": "2e66df9d",
   "metadata": {},
   "outputs": [],
   "source": [
    "def create_object_code(hex_codes, output_file):\n",
    "    \n",
    "    with open(output_file, 'w') as object_code:\n",
    "        object_code.write(\"v2.0 raw\")\n",
    "        \n",
    "        for counter, data in enumerate(hex_codes):\n",
    "            \n",
    "            if not (counter % 7):\n",
    "                object_code.write(\"\\n\")\n",
    "            else:\n",
    "                object_code.write(\" \")\n",
    "                \n",
    "            object_code.write(str(data))"
   ]
  },
  {
   "cell_type": "code",
   "execution_count": 37,
   "id": "769ffa44",
   "metadata": {},
   "outputs": [],
   "source": [
    "create_object_code(content, 'some.txt')"
   ]
  },
  {
   "cell_type": "code",
   "execution_count": 39,
   "id": "070b0236",
   "metadata": {},
   "outputs": [
    {
     "data": {
      "text/plain": [
       "True"
      ]
     },
     "execution_count": 39,
     "metadata": {},
     "output_type": "execute_result"
    }
   ],
   "source": [
    "not 0 % 7"
   ]
  },
  {
   "cell_type": "code",
   "execution_count": null,
   "id": "4046bc03",
   "metadata": {},
   "outputs": [],
   "source": []
  }
 ],
 "metadata": {
  "kernelspec": {
   "display_name": "Python 3",
   "language": "python",
   "name": "python3"
  },
  "language_info": {
   "codemirror_mode": {
    "name": "ipython",
    "version": 3
   },
   "file_extension": ".py",
   "mimetype": "text/x-python",
   "name": "python",
   "nbconvert_exporter": "python",
   "pygments_lexer": "ipython3",
   "version": "3.9.2"
  }
 },
 "nbformat": 4,
 "nbformat_minor": 5
}
